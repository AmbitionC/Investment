{
 "cells": [
  {
   "cell_type": "code",
   "execution_count": 4,
   "metadata": {},
   "outputs": [
    {
     "name": "stdout",
     "output_type": "stream",
     "text": [
      "login success!\n"
     ]
    }
   ],
   "source": [
    "import baostock as bs\n",
    "import pandas as pd\n",
    "from datetime import datetime, timedelta, date\n",
    "\n",
    "lg = bs.login()"
   ]
  },
  {
   "cell_type": "code",
   "execution_count": 5,
   "metadata": {},
   "outputs": [
    {
     "name": "stdout",
     "output_type": "stream",
     "text": [
      "所有在市股票数量为： 4930\n"
     ]
    }
   ],
   "source": [
    "#### 获取所有上市公司证券编码 ####\n",
    "all_stock_code = []\n",
    "all_stock_res = bs.query_stock_basic()\n",
    "while (all_stock_res.error_code == '0') & all_stock_res.next():\n",
    "  stock_data = all_stock_res.get_row_data()\n",
    "  # 类型为股票且未退市的\n",
    "  if (stock_data[4] == '1' and stock_data[5] == '1'):\n",
    "    all_stock_code.append(stock_data[0])\n",
    "print('所有在市股票数量为：', len(all_stock_code))"
   ]
  },
  {
   "cell_type": "code",
   "execution_count": 6,
   "metadata": {},
   "outputs": [],
   "source": [
    "#### 取近五年所有的季度财报 ####\n",
    "years = [2018, 2019, 2020, 2021, 2022]\n",
    "quarters = [1, 2, 3, 4]\n",
    "fields = [\n",
    "  '编码',\n",
    "  '名称',\n",
    "  '年份',\n",
    "  '季度',\n",
    "  '财报发布日期',\n",
    "  '持有时长(年)',\n",
    "  '资产负债率',\n",
    "  '现金流比率',\n",
    "  '市净率',\n",
    "  '市净率相对值',\n",
    "  '发布时股价',\n",
    "  '当前股价',\n",
    "  '收益率',\n",
    "  '年化收益率',\n",
    "]"
   ]
  },
  {
   "cell_type": "code",
   "execution_count": 7,
   "metadata": {},
   "outputs": [],
   "source": [
    "#### 获取财报公布的最近的交易日 ####\n",
    "def getIsTradingDate(currDate):\n",
    "  result = False\n",
    "  rs = bs.query_trade_dates(start_date=currDate, end_date=currDate)\n",
    "  while (rs.error_code == '0') & rs.next():\n",
    "    rowData = rs.get_row_data()\n",
    "    if (rowData[1] == '1'):\n",
    "      result = True\n",
    "      return result\n",
    "  return result"
   ]
  },
  {
   "cell_type": "code",
   "execution_count": 8,
   "metadata": {},
   "outputs": [],
   "source": [
    "#### 获取财报发布最近的交易日 ####\n",
    "def getClosestDate(pubDate):\n",
    "  isTradingDate = getIsTradingDate(pubDate)\n",
    "  if (isTradingDate):\n",
    "    return pubDate\n",
    "  result = pubDate\n",
    "  date_obj = datetime.strptime(pubDate, '%Y-%m-%d')\n",
    "  prevDate = (date_obj + timedelta(days=-2)).strftime('%Y-%m-%d')\n",
    "  nextDate = (date_obj + timedelta(days=+2)).strftime('%Y-%m-%d')\n",
    "  rs = bs.query_trade_dates(start_date=prevDate, end_date=nextDate)\n",
    "  while (rs.error_code == '0') & rs.next():\n",
    "    rowData = rs.get_row_data()\n",
    "    if (rowData[1] == '1'):\n",
    "      result = rowData[0]\n",
    "      return result\n",
    "  return pubDate"
   ]
  },
  {
   "cell_type": "code",
   "execution_count": 9,
   "metadata": {},
   "outputs": [],
   "source": [
    "#### 计算持有时长 ####\n",
    "def getHoldingYears(currDate):\n",
    "  date_obj = datetime.strptime(currDate, '%Y-%m-%d').date()\n",
    "  # 计算日期到今天为止的年限\n",
    "  today = date.today()\n",
    "  delta = today - date_obj\n",
    "  years = delta.days / 365.25\n",
    "  return years"
   ]
  },
  {
   "cell_type": "code",
   "execution_count": 10,
   "metadata": {},
   "outputs": [],
   "source": [
    "#### 获取当前日期 ####\n",
    "def getToday():\n",
    "  today = date.today().strftime('%Y-%m-%d')\n",
    "  return getClosestDate(today)"
   ]
  },
  {
   "cell_type": "code",
   "execution_count": 11,
   "metadata": {},
   "outputs": [],
   "source": [
    "#### 获取当前PB和历史最低PB的差距 ####\n",
    "def getPBPercentToMin(code, date):\n",
    "  try:\n",
    "    raw_prev_date = datetime.strptime(date, '%Y-%m-%d') + timedelta(days=-1095)\n",
    "    prev_three_years_date = raw_prev_date.strftime('%Y-%m-%d') if isinstance(raw_prev_date, datetime) else date\n",
    "    rs = bs.query_history_k_data_plus(\n",
    "      code,\n",
    "      \"pbMRQ\",\n",
    "      start_date=prev_three_years_date,\n",
    "      end_date=date, \n",
    "      frequency=\"d\",\n",
    "      adjustflag=\"1\",\n",
    "    )\n",
    "    data_array = []\n",
    "    while (rs.error_code == '0') & rs.next():\n",
    "      # 获取一条记录，将记录合并在一起\n",
    "      data_array.append(rs.get_row_data())\n",
    "    result = pd.DataFrame(data_array, columns=rs.fields)\n",
    "    dropedResult = result.replace('', pd.np.nan).dropna(subset=['pbMRQ'])\n",
    "    minPB = dropedResult['pbMRQ'].astype(float).min()\n",
    "    maxPB = dropedResult['pbMRQ'].astype(float).max()\n",
    "    currentPB = float(dropedResult['pbMRQ'][len(dropedResult) - 1])\n",
    "    percentToMin = (currentPB - minPB) / (maxPB - minPB)\n",
    "    return percentToMin\n",
    "  except:\n",
    "    return 10000"
   ]
  },
  {
   "cell_type": "code",
   "execution_count": 12,
   "metadata": {},
   "outputs": [],
   "source": [
    "#### 获取财报数据 #### \n",
    "data_list = []\n",
    "def getStockData(code, year, quarter):\n",
    "  record = [code]\n",
    "  closestDate = ''\n",
    "  pub_close = 0\n",
    "  current_close = 0\n",
    "  holdingYears = 0\n",
    "  # 证券名称\n",
    "  stockInfoRes = bs.query_stock_basic(code)\n",
    "  if (stockInfoRes.error_code == '0') & stockInfoRes.next():\n",
    "    code_name = stockInfoRes.get_row_data()[1]\n",
    "    record.extend([code_name, year, quarter])\n",
    "  # 财报发布日期\n",
    "  pubDateRes = bs.query_profit_data(code, year, quarter)\n",
    "  if (pubDateRes.error_code == '0') & pubDateRes.next():\n",
    "    pubDate = pubDateRes.get_row_data()[1]\n",
    "    closestDate = getClosestDate(pubDate)\n",
    "    holdingYears = getHoldingYears(closestDate)\n",
    "    record.extend([closestDate, holdingYears])\n",
    "  else:\n",
    "    record.extend(['Empty', 'Empty'])\n",
    "  # 资产负债率\n",
    "  debtAssetRatioRes = bs.query_balance_data(code, year, quarter)\n",
    "  if (debtAssetRatioRes.error_code == '0') & debtAssetRatioRes.next():\n",
    "    debt_asset_ratio = debtAssetRatioRes.get_row_data()[7]\n",
    "    record.append(float(debt_asset_ratio) if len(debt_asset_ratio) > 0 else 10000)\n",
    "  else:\n",
    "    record.append(-10000)\n",
    "  # 现金流量比率\n",
    "  cashFlowRatioRes = bs.query_cash_flow_data(code, year, quarter)\n",
    "  if (cashFlowRatioRes.error_code == '0') & cashFlowRatioRes.next():\n",
    "    cash_flow_ratio = cashFlowRatioRes.get_row_data()[7]\n",
    "    record.append(float(cash_flow_ratio) if len(cash_flow_ratio) > 0 else -10000)\n",
    "  else:\n",
    "    record.append(-10000)\n",
    "  # 市净率\n",
    "  peTTMRes = bs.query_history_k_data_plus(\n",
    "    code,\n",
    "    \"pbMRQ,close\",\n",
    "    start_date=closestDate,\n",
    "    end_date=closestDate,\n",
    "    frequency=\"d\",\n",
    "    adjustflag=\"1\",\n",
    "  )\n",
    "  if (peTTMRes.error_code == '0') & peTTMRes.next():\n",
    "    k_data = peTTMRes.get_row_data()\n",
    "    pbMRQ = float(k_data[0]) if len(k_data[0]) > 0 else 10000\n",
    "    pub_close = float(k_data[1])\n",
    "    pb_to_min = getPBPercentToMin(code, closestDate) if len(k_data[0]) > 0 else 10000\n",
    "    record.extend([pbMRQ, pb_to_min, pub_close])\n",
    "  else :\n",
    "    record.extend([10000, 10000, 0])\n",
    "  # 当前股价\n",
    "  currentRes = bs.query_history_k_data_plus(\n",
    "    code,\n",
    "    \"close\",\n",
    "    start_date=getToday(),\n",
    "    end_date=getToday(),\n",
    "    frequency=\"d\",\n",
    "    adjustflag=\"1\",\n",
    "  )\n",
    "  if (currentRes.error_code == '0') & currentRes.next():\n",
    "    current_k_data = currentRes.get_row_data()\n",
    "    current_close = float(current_k_data[0])\n",
    "    record.extend([current_close])\n",
    "  else :\n",
    "    record.extend([0])\n",
    "  # 收益率\n",
    "  earning_ratio = (current_close - pub_close) / pub_close if (pub_close != 0) else 0\n",
    "  # 年化收益率\n",
    "  annual_earning_ratio = ((1 + earning_ratio) ** (1 / holdingYears) - 1) if (holdingYears != 0) else 0\n",
    "  record.extend([earning_ratio, annual_earning_ratio])\n",
    "  data_list.append(record)"
   ]
  },
  {
   "cell_type": "code",
   "execution_count": 13,
   "metadata": {},
   "outputs": [],
   "source": [
    "#### 函数主流程 ####\n",
    "def main():\n",
    "  for index, code in enumerate(all_stock_code[:10]):\n",
    "    print('当前进度', index + 1,'/ 4930，进度百分比为', (index + 1) / 4930 * 100, '%')\n",
    "    for year in years:\n",
    "      for quarter in quarters:\n",
    "        getStockData(code, year, quarter)\n",
    "  result = pd.DataFrame(data_list, columns=fields)\n",
    "  print('result --->', result)\n",
    "\n",
    "  result.to_csv(\"/Users/chenhao/Downloads/all_stock.csv\", index=False)\n",
    "  print('success !!')\n"
   ]
  },
  {
   "cell_type": "code",
   "execution_count": 14,
   "metadata": {},
   "outputs": [
    {
     "name": "stdout",
     "output_type": "stream",
     "text": [
      "当前进度 1 / 500，进度百分比为 0.2 %\n",
      "当前进度 2 / 500，进度百分比为 0.4 %\n",
      "当前进度 3 / 500，进度百分比为 0.6 %\n",
      "当前进度 4 / 500，进度百分比为 0.8 %\n",
      "当前进度 5 / 500，进度百分比为 1.0 %\n",
      "当前进度 6 / 500，进度百分比为 1.2 %\n",
      "当前进度 7 / 500，进度百分比为 1.4000000000000001 %\n",
      "当前进度 8 / 500，进度百分比为 1.6 %\n",
      "当前进度 9 / 500，进度百分比为 1.7999999999999998 %\n",
      "当前进度 10 / 500，进度百分比为 2.0 %\n",
      "result --->             编码    名称    年份  季度      财报发布日期   持有时长(年)     资产负债率     现金流比率  \\\n",
      "0    sh.600000  浦发银行  2018   1  2018-04-26  5.086927  0.929103 -1.229529   \n",
      "1    sh.600000  浦发银行  2018   2  2018-08-30  4.741958  0.926553 -1.435701   \n",
      "2    sh.600000  浦发银行  2018   3  2018-10-31  4.572211  0.924122 -2.848571   \n",
      "3    sh.600000  浦发银行  2018   4  2019-03-26  4.172485  0.923941 -1.972462   \n",
      "4    sh.600000  浦发银行  2019   1  2019-04-30  4.076660  0.924334  3.702440   \n",
      "..         ...   ...   ...  ..         ...       ...       ...       ...   \n",
      "195  sh.600015  华夏银行  2021   4  2022-04-28  1.081451  0.918205  0.740743   \n",
      "196  sh.600015  华夏银行  2022   1  2022-04-28  1.081451  0.920268  1.633292   \n",
      "197  sh.600015  华夏银行  2022   2  2022-08-30  0.741958  0.921035  1.440374   \n",
      "198  sh.600015  华夏银行  2022   3  2022-10-27  0.583162  0.919474  0.404781   \n",
      "199  sh.600015  华夏银行  2022   4  2023-04-28  0.082136  0.917100  0.841879   \n",
      "\n",
      "          市净率    市净率相对值       发布时股价       当前股价       收益率     年化收益率  \n",
      "0    0.876537  0.009852  108.592919  83.700035 -0.229231 -0.049896  \n",
      "1    0.726418  0.062482   96.460843  83.700035 -0.132290 -0.029481  \n",
      "2    0.757521  0.106633  104.143565  83.700035 -0.196301 -0.046671  \n",
      "3    0.737055  0.107763  105.186898  83.700035 -0.204273 -0.053291  \n",
      "4    0.765994  0.201416  113.533559  83.700035 -0.262773 -0.072054  \n",
      "..        ...       ...         ...        ...       ...       ...  \n",
      "195  0.359156  0.053184   19.927083  22.683606  0.138330  0.127276  \n",
      "196  0.359156  0.053184   19.927083  22.683606  0.138330  0.127276  \n",
      "197  0.327680  0.033556   20.237722  22.683606  0.120858  0.166228  \n",
      "198  0.320419  0.008848   19.133129  22.683606  0.185567  0.338960  \n",
      "199  0.345121  0.314815   22.723056  22.683606 -0.001736 -0.020933  \n",
      "\n",
      "[200 rows x 14 columns]\n",
      "success !!\n"
     ]
    }
   ],
   "source": [
    "main()"
   ]
  }
 ],
 "metadata": {
  "kernelspec": {
   "display_name": "base",
   "language": "python",
   "name": "python3"
  },
  "language_info": {
   "codemirror_mode": {
    "name": "ipython",
    "version": 3
   },
   "file_extension": ".py",
   "mimetype": "text/x-python",
   "name": "python",
   "nbconvert_exporter": "python",
   "pygments_lexer": "ipython3",
   "version": "3.7.4"
  },
  "orig_nbformat": 4,
  "vscode": {
   "interpreter": {
    "hash": "67b962f024ab28a55374b1934e5cf4a3ffe75fb98e7ea5da9aea2e2d6b4f0e39"
   }
  }
 },
 "nbformat": 4,
 "nbformat_minor": 2
}
